{
 "cells": [
  {
   "cell_type": "markdown",
   "metadata": {},
   "source": [
    "# Create protein-protein interactome network and assign pathways to proteins"
   ]
  },
  {
   "cell_type": "markdown",
   "metadata": {},
   "source": [
    "This notebook creates the protein-protein interactome network and checks if proteins in the interactome belong to any pathways in MPath. "
   ]
  },
  {
   "cell_type": "code",
   "execution_count": 1,
   "metadata": {},
   "outputs": [],
   "source": [
    "from collections import defaultdict\n",
    "import getpass\n",
    "import os\n",
    "import sys\n",
    "import time\n",
    "\n",
    "import pandas as pd\n",
    "\n",
    "import pyobo"
   ]
  },
  {
   "cell_type": "code",
   "execution_count": 2,
   "metadata": {},
   "outputs": [
    {
     "data": {
      "text/plain": [
       "'sarahmubeen'"
      ]
     },
     "execution_count": 2,
     "metadata": {},
     "output_type": "execute_result"
    }
   ],
   "source": [
    "getpass.getuser()"
   ]
  },
  {
   "cell_type": "code",
   "execution_count": 3,
   "metadata": {},
   "outputs": [
    {
     "data": {
      "text/plain": [
       "'3.7.8 (v3.7.8:4b47a5b6ba, Jun 27 2020, 04:47:50) \\n[Clang 6.0 (clang-600.0.57)]'"
      ]
     },
     "execution_count": 3,
     "metadata": {},
     "output_type": "execute_result"
    }
   ],
   "source": [
    "sys.version"
   ]
  },
  {
   "cell_type": "code",
   "execution_count": 4,
   "metadata": {},
   "outputs": [
    {
     "data": {
      "text/plain": [
       "'Mon Jan 18 16:25:51 2021'"
      ]
     },
     "execution_count": 4,
     "metadata": {},
     "output_type": "execute_result"
    }
   ],
   "source": [
    "time.asctime()"
   ]
  },
  {
   "cell_type": "code",
   "execution_count": 5,
   "metadata": {},
   "outputs": [
    {
     "data": {
      "text/plain": [
       "(253157, 4)"
      ]
     },
     "execution_count": 5,
     "metadata": {},
     "output_type": "execute_result"
    }
   ],
   "source": [
    "# load interaction network\n",
    "processed_graph = os.path.join('processed_graph_30_04_2020.tsv')\n",
    "df = pd.read_csv(processed_graph, sep='\\t', index_col=0)\n",
    "df.shape"
   ]
  },
  {
   "cell_type": "code",
   "execution_count": 6,
   "metadata": {
    "scrolled": true
   },
   "outputs": [
    {
     "data": {
      "text/html": [
       "<div>\n",
       "<style scoped>\n",
       "    .dataframe tbody tr th:only-of-type {\n",
       "        vertical-align: middle;\n",
       "    }\n",
       "\n",
       "    .dataframe tbody tr th {\n",
       "        vertical-align: top;\n",
       "    }\n",
       "\n",
       "    .dataframe thead th {\n",
       "        text-align: right;\n",
       "    }\n",
       "</style>\n",
       "<table border=\"1\" class=\"dataframe\">\n",
       "  <thead>\n",
       "    <tr style=\"text-align: right;\">\n",
       "      <th></th>\n",
       "      <th>source_identifier</th>\n",
       "      <th>target_identifier</th>\n",
       "      <th>bel_relation</th>\n",
       "      <th>source_database</th>\n",
       "    </tr>\n",
       "  </thead>\n",
       "  <tbody>\n",
       "    <tr>\n",
       "      <th>0</th>\n",
       "      <td>drugbank:DB00087</td>\n",
       "      <td>HGNC:3620</td>\n",
       "      <td>association</td>\n",
       "      <td>drugbank</td>\n",
       "    </tr>\n",
       "    <tr>\n",
       "      <th>1</th>\n",
       "      <td>drugbank:DB00818</td>\n",
       "      <td>HGNC:4083</td>\n",
       "      <td>increases</td>\n",
       "      <td>drugbank</td>\n",
       "    </tr>\n",
       "    <tr>\n",
       "      <th>2</th>\n",
       "      <td>drugbank:DB00139</td>\n",
       "      <td>HGNC:408</td>\n",
       "      <td>decreases</td>\n",
       "      <td>drugbank</td>\n",
       "    </tr>\n",
       "    <tr>\n",
       "      <th>3</th>\n",
       "      <td>drugbank:DB01142</td>\n",
       "      <td>HGNC:278</td>\n",
       "      <td>decreases</td>\n",
       "      <td>drugbank</td>\n",
       "    </tr>\n",
       "    <tr>\n",
       "      <th>4</th>\n",
       "      <td>drugbank:DB00173</td>\n",
       "      <td>HGNC:626</td>\n",
       "      <td>association</td>\n",
       "      <td>drugbank</td>\n",
       "    </tr>\n",
       "  </tbody>\n",
       "</table>\n",
       "</div>"
      ],
      "text/plain": [
       "  source_identifier target_identifier bel_relation source_database\n",
       "0  drugbank:DB00087         HGNC:3620  association        drugbank\n",
       "1  drugbank:DB00818         HGNC:4083    increases        drugbank\n",
       "2  drugbank:DB00139          HGNC:408    decreases        drugbank\n",
       "3  drugbank:DB01142          HGNC:278    decreases        drugbank\n",
       "4  drugbank:DB00173          HGNC:626  association        drugbank"
      ]
     },
     "execution_count": 6,
     "metadata": {},
     "output_type": "execute_result"
    }
   ],
   "source": [
    "df.head()"
   ]
  },
  {
   "cell_type": "code",
   "execution_count": 7,
   "metadata": {},
   "outputs": [
    {
     "data": {
      "text/plain": [
       "BIOGRID           102597\n",
       "KEGG               63405\n",
       "PATHWAYCOMMONS     33006\n",
       "INTACT             23166\n",
       "CLINICALTRIALS      8157\n",
       "drugbank            8148\n",
       "REACTOME            6398\n",
       "DISGENET            5448\n",
       "WIKIPATHWAYS        2832\n",
       "Name: source_database, dtype: int64"
      ]
     },
     "execution_count": 7,
     "metadata": {},
     "output_type": "execute_result"
    }
   ],
   "source": [
    "# Contributing resources\n",
    "df.source_database.value_counts()"
   ]
  },
  {
   "cell_type": "code",
   "execution_count": 8,
   "metadata": {},
   "outputs": [],
   "source": [
    "def process_interaction_network(df, database_list):\n",
    "    # Get subset of databases\n",
    "    protein_protein_df = df.loc[df['source_database'].isin(database_list)]\n",
    "\n",
    "    # Remove all non-HGNC source and target entities \n",
    "    ppi_df = protein_protein_df.loc[\n",
    "        (protein_protein_df['source_identifier'].str.startswith('HGNC:')) & \n",
    "        (protein_protein_df['target_identifier'].str.startswith('HGNC:'))]\n",
    "\n",
    "    # Remove 'HGNC:' prefix from HGNC identifiers\n",
    "    network_df = ppi_df.copy()\n",
    "    network_df['source_identifier'] = network_df['source_identifier'].str.replace('HGNC:', '')\n",
    "    network_df['target_identifier'] = network_df['target_identifier'].str.replace('HGNC:', '')\n",
    "\n",
    "    # Remove self edges from network\n",
    "    network_df.drop(\n",
    "        network_df[(network_df['source_identifier'] == network_df['target_identifier'])].index, \n",
    "        inplace=True\n",
    "    )\n",
    "    \n",
    "    network_df.rename(\n",
    "        columns={'source_identifier': 'source', 'target_identifier': 'target', 'bel_relation': 'relation'}, \n",
    "        inplace=True\n",
    "    )\n",
    "        \n",
    "    return network_df"
   ]
  },
  {
   "cell_type": "code",
   "execution_count": 9,
   "metadata": {},
   "outputs": [
    {
     "data": {
      "text/plain": [
       "(203357, 4)"
      ]
     },
     "execution_count": 9,
     "metadata": {},
     "output_type": "execute_result"
    }
   ],
   "source": [
    "ppi_databases = ['KEGG','REACTOME','WIKIPATHWAYS','INTACT','BIOGRID','PATHWAYCOMMONS']\n",
    "\n",
    "network_df = process_interaction_network(df, ppi_databases)\n",
    "network_df.shape"
   ]
  },
  {
   "cell_type": "code",
   "execution_count": 10,
   "metadata": {},
   "outputs": [
    {
     "data": {
      "text/html": [
       "<div>\n",
       "<style scoped>\n",
       "    .dataframe tbody tr th:only-of-type {\n",
       "        vertical-align: middle;\n",
       "    }\n",
       "\n",
       "    .dataframe tbody tr th {\n",
       "        vertical-align: top;\n",
       "    }\n",
       "\n",
       "    .dataframe thead th {\n",
       "        text-align: right;\n",
       "    }\n",
       "</style>\n",
       "<table border=\"1\" class=\"dataframe\">\n",
       "  <thead>\n",
       "    <tr style=\"text-align: right;\">\n",
       "      <th></th>\n",
       "      <th>source</th>\n",
       "      <th>target</th>\n",
       "      <th>relation</th>\n",
       "      <th>source_database</th>\n",
       "    </tr>\n",
       "  </thead>\n",
       "  <tbody>\n",
       "    <tr>\n",
       "      <th>0</th>\n",
       "      <td>12630</td>\n",
       "      <td>11998</td>\n",
       "      <td>decreases</td>\n",
       "      <td>INTACT</td>\n",
       "    </tr>\n",
       "    <tr>\n",
       "      <th>1</th>\n",
       "      <td>10773</td>\n",
       "      <td>11504</td>\n",
       "      <td>association</td>\n",
       "      <td>INTACT</td>\n",
       "    </tr>\n",
       "    <tr>\n",
       "      <th>2</th>\n",
       "      <td>8590</td>\n",
       "      <td>8976</td>\n",
       "      <td>association</td>\n",
       "      <td>INTACT</td>\n",
       "    </tr>\n",
       "    <tr>\n",
       "      <th>3</th>\n",
       "      <td>13516</td>\n",
       "      <td>6840</td>\n",
       "      <td>association</td>\n",
       "      <td>INTACT</td>\n",
       "    </tr>\n",
       "    <tr>\n",
       "      <th>4</th>\n",
       "      <td>903</td>\n",
       "      <td>6773</td>\n",
       "      <td>association</td>\n",
       "      <td>INTACT</td>\n",
       "    </tr>\n",
       "  </tbody>\n",
       "</table>\n",
       "</div>"
      ],
      "text/plain": [
       "  source target     relation source_database\n",
       "0  12630  11998    decreases          INTACT\n",
       "1  10773  11504  association          INTACT\n",
       "2   8590   8976  association          INTACT\n",
       "3  13516   6840  association          INTACT\n",
       "4    903   6773  association          INTACT"
      ]
     },
     "execution_count": 10,
     "metadata": {},
     "output_type": "execute_result"
    }
   ],
   "source": [
    "network_df.head()"
   ]
  },
  {
   "cell_type": "markdown",
   "metadata": {},
   "source": [
    "### Check if genes in network overlap with genes in MPath gene sets"
   ]
  },
  {
   "cell_type": "code",
   "execution_count": 11,
   "metadata": {},
   "outputs": [],
   "source": [
    "def spliterate(lines, sep='\\t'):\n",
    "    \"\"\"Split each line in the iterable by the given separator.\"\"\"\n",
    "    for line in lines:\n",
    "        yield line.strip().split(sep)\n",
    "\n",
    "def gmt_parser(path):\n",
    "    \"\"\"Parse GMT file.\"\"\"\n",
    "    with open(path) as file:\n",
    "\n",
    "        # Get dictionary with pathway and corresponding gene set\n",
    "        genesets_dict = {\n",
    "            name: genes\n",
    "            for name, _, *genes in spliterate(file)\n",
    "        }\n",
    "    # Apply gene set filter\n",
    "    genesets_filter = {\n",
    "        key: genes\n",
    "        for key, genes in genesets_dict.items()\n",
    "    }\n",
    "    \n",
    "    return genesets_filter\n"
   ]
  },
  {
   "cell_type": "code",
   "execution_count": 12,
   "metadata": {},
   "outputs": [],
   "source": [
    "# Parse MPath gmt file to get MPath gene sets\n",
    "\n",
    "mpath_geneset_dict = gmt_parser('mpath.txt')"
   ]
  },
  {
   "cell_type": "code",
   "execution_count": 13,
   "metadata": {},
   "outputs": [],
   "source": [
    "def convert_hgnc_symbols_to_ids(hgnc_mappings, geneset_dict):\n",
    "    hgnc_id_mappings = {}\n",
    "\n",
    "    # Convert HGNC symbols in gene sets to HGNC IDs\n",
    "    for pathway, geneset in geneset_dict.items():\n",
    "        geneset_ids = []\n",
    "        for gene in geneset:\n",
    "            if gene in hgnc_mappings:\n",
    "                geneset_ids.append(hgnc_mappings[gene])\n",
    "\n",
    "        hgnc_id_mappings[pathway] = geneset_ids\n",
    "\n",
    "    return hgnc_id_mappings\n"
   ]
  },
  {
   "cell_type": "code",
   "execution_count": 14,
   "metadata": {},
   "outputs": [
    {
     "name": "stdout",
     "output_type": "stream",
     "text": [
      "42368 - Number of all HGNC IDs\n",
      "3068 - Number of pathways in MPath\n"
     ]
    }
   ],
   "source": [
    "# Get HGNC symbols and IDs\n",
    "hgnc_mappings = pyobo.get_name_id_mapping('hgnc') \n",
    "\n",
    "mpath_hgnc_id_mappings = convert_hgnc_symbols_to_ids(hgnc_mappings, mpath_geneset_dict)\n",
    "\n",
    "print(f'{len(hgnc_mappings)} - Number of all HGNC IDs')\n",
    "print(f'{len(mpath_hgnc_id_mappings)} - Number of pathways in MPath')"
   ]
  },
  {
   "cell_type": "code",
   "execution_count": 15,
   "metadata": {},
   "outputs": [
    {
     "name": "stdout",
     "output_type": "stream",
     "text": [
      "12988 - Number of genes in MPath\n",
      "8804 - Number of genes in protein-protein interactome network\n",
      "8603 - Number of genes in interactome belonging to a pathway in MPath\n",
      "201 - Number of genes in interactome not belonging to a pathway in MPath\n"
     ]
    }
   ],
   "source": [
    "mpath_hgnc_id_mappings_set = set()\n",
    "\n",
    "# Get a set of all genes in MPath\n",
    "for pathway, geneset in mpath_geneset_dict.items():\n",
    "    for gene in geneset:\n",
    "        if gene in hgnc_mappings:\n",
    "            mpath_hgnc_id_mappings_set.add(hgnc_mappings[gene])\n",
    "            \n",
    "# Get all genes in the network\n",
    "network_genes = set(network_df['source'].tolist() + network_df['target'].tolist())\n",
    "\n",
    "# Get genes in network with membership or no membership to pathways in MPath\n",
    "non_match = set()\n",
    "match_genes = set()\n",
    "\n",
    "for gene in network_genes:\n",
    "    if gene in mpath_hgnc_id_mappings_set:\n",
    "        match_genes.add(gene)\n",
    "    else:\n",
    "        non_match.add(gene)\n",
    "\n",
    "print(f'{len(mpath_hgnc_id_mappings_set)} - Number of genes in MPath')\n",
    "print(f'{len(network_genes)} - Number of genes in protein-protein interactome network')\n",
    "print(f'{len(match_genes)} - Number of genes in interactome belonging to a pathway in MPath')\n",
    "print(f'{len(non_match)} - Number of genes in interactome not belonging to a pathway in MPath')\n"
   ]
  },
  {
   "cell_type": "code",
   "execution_count": 16,
   "metadata": {},
   "outputs": [
    {
     "data": {
      "text/plain": [
       "(199535, 4)"
      ]
     },
     "execution_count": 16,
     "metadata": {},
     "output_type": "execute_result"
    }
   ],
   "source": [
    "# Drop genes not belonging to any MPath pathway from the network\n",
    "network_df = network_df[~network_df['source'].isin(non_match)]\n",
    "network_df = network_df[~network_df['target'].isin(non_match)]\n",
    "\n",
    "network_df.shape"
   ]
  },
  {
   "cell_type": "code",
   "execution_count": 17,
   "metadata": {},
   "outputs": [
    {
     "data": {
      "text/plain": [
       "BIOGRID           97733\n",
       "KEGG              46983\n",
       "PATHWAYCOMMONS    31207\n",
       "INTACT            21124\n",
       "WIKIPATHWAYS       1826\n",
       "REACTOME            662\n",
       "Name: source_database, dtype: int64"
      ]
     },
     "execution_count": 17,
     "metadata": {},
     "output_type": "execute_result"
    }
   ],
   "source": [
    "network_df.source_database.value_counts()"
   ]
  },
  {
   "cell_type": "code",
   "execution_count": 18,
   "metadata": {},
   "outputs": [
    {
     "data": {
      "text/plain": [
       "association     144961\n",
       "increases        21877\n",
       "regulates        19612\n",
       "decreases         7296\n",
       "hasComponent      5789\n",
       "Name: relation, dtype: int64"
      ]
     },
     "execution_count": 18,
     "metadata": {},
     "output_type": "execute_result"
    }
   ],
   "source": [
    "network_df.relation.value_counts()"
   ]
  },
  {
   "cell_type": "code",
   "execution_count": 19,
   "metadata": {},
   "outputs": [],
   "source": [
    "network_df.to_csv('interactome_18_01_2021.tsv', sep='\\t', index=False)"
   ]
  },
  {
   "cell_type": "markdown",
   "metadata": {},
   "source": [
    "### Assign pathways to each gene in the network"
   ]
  },
  {
   "cell_type": "code",
   "execution_count": 20,
   "metadata": {},
   "outputs": [
    {
     "data": {
      "text/plain": [
       "8603"
      ]
     },
     "execution_count": 20,
     "metadata": {},
     "output_type": "execute_result"
    }
   ],
   "source": [
    "# Get pathway(s) for genes in network\n",
    "gene_pathway_dict = defaultdict(list)\n",
    "\n",
    "for pathway, geneset in mpath_hgnc_id_mappings.items(): \n",
    "    for gene in match_genes:\n",
    "        if gene in geneset:\n",
    "            gene_pathway_dict[gene].append(pathway)\n",
    "            \n",
    "len(gene_pathway_dict)"
   ]
  }
 ],
 "metadata": {
  "kernelspec": {
   "display_name": "Python 3",
   "language": "python",
   "name": "python3"
  },
  "language_info": {
   "codemirror_mode": {
    "name": "ipython",
    "version": 3
   },
   "file_extension": ".py",
   "mimetype": "text/x-python",
   "name": "python",
   "nbconvert_exporter": "python",
   "pygments_lexer": "ipython3",
   "version": "3.7.8"
  }
 },
 "nbformat": 4,
 "nbformat_minor": 4
}