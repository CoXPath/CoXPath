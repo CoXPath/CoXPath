{
 "cells": [
  {
   "cell_type": "markdown",
   "metadata": {},
   "source": [
    "# Section 3.3 Investigating global trends of disease-specific co-expression networks at the edge level"
   ]
  },
  {
   "cell_type": "code",
   "execution_count": 1,
   "metadata": {},
   "outputs": [],
   "source": [
    "import getpass\n",
    "import json\n",
    "import os\n",
    "import sys\n",
    "import time\n",
    "from collections import Counter\n",
    "from itertools import chain\n",
    "\n",
    "import matplotlib.pyplot as plt\n",
    "import networkx as nx\n",
    "import numpy as np\n",
    "import pandas as pd\n",
    "import pyobo\n",
    "import seaborn as sns\n",
    "from network_utils import edge_file_path, create_network_from_edge_file, most_common, below_cutoff, \\\n",
    "    load_interactome, above_cutoff, remove_stats, percent_edges_in_other_edges, top_edges_subgraph #TODO change normal_subgraph\n",
    "from tqdm import tqdm"
   ]
  },
  {
   "cell_type": "code",
   "execution_count": 2,
   "metadata": {},
   "outputs": [
    {
     "data": {
      "text/plain": [
       "'rfigueiredo'"
      ]
     },
     "execution_count": 2,
     "metadata": {},
     "output_type": "execute_result"
    }
   ],
   "source": [
    "getpass.getuser()"
   ]
  },
  {
   "cell_type": "code",
   "execution_count": 3,
   "metadata": {},
   "outputs": [
    {
     "data": {
      "text/plain": [
       "'3.9.1 (v3.9.1:1e5d33e9b9, Dec  7 2020, 12:10:52) \\n[Clang 6.0 (clang-600.0.57)]'"
      ]
     },
     "execution_count": 3,
     "metadata": {},
     "output_type": "execute_result"
    }
   ],
   "source": [
    "sys.version"
   ]
  },
  {
   "cell_type": "code",
   "execution_count": 4,
   "metadata": {},
   "outputs": [
    {
     "data": {
      "text/plain": [
       "'Fri Feb 26 23:49:48 2021'"
      ]
     },
     "execution_count": 4,
     "metadata": {},
     "output_type": "execute_result"
    }
   ],
   "source": [
    "time.asctime()"
   ]
  },
  {
   "cell_type": "markdown",
   "metadata": {},
   "source": [
    "## Load data\n",
    "#### download data from https://doi.org/10.5281/zenodo.4572853 and place the folder 'data/' in the root of the repository, or if placed elsewhere, write the full path to 'data/' as the variable data_dir below\n",
    "\n",
    "#### optional: select your desired location of the output figures"
   ]
  },
  {
   "cell_type": "code",
   "execution_count": 5,
   "metadata": {},
   "outputs": [],
   "source": [
    "# replace here the location of the data dir if not structured as instructed\n",
    "data_dir = \"../data\"\n",
    "\n",
    "# optional, replace here the desired location of the output figures\n",
    "figures_dir = os.path.join(os.path.expanduser(\"~\"), \"coexpath_figures\")\n",
    "os.makedirs(figures_dir, exist_ok=True)"
   ]
  },
  {
   "cell_type": "markdown",
   "metadata": {},
   "source": [
    "##### Load co-expression networks"
   ]
  },
  {
   "cell_type": "code",
   "execution_count": 6,
   "metadata": {},
   "outputs": [
    {
     "name": "stderr",
     "output_type": "stream",
     "text": [
      "Creating/loading network objects: 100%|██████████| 64/64 [05:19<00:00,  4.99s/it]\n"
     ]
    }
   ],
   "source": [
    "network_dict = {\n",
    "    doid : create_network_from_edge_file(edge_file_path(os.path.join(data_dir, \"final_coexprNets\"), doid), doid)\n",
    "    for doid in tqdm(os.listdir(os.path.join(data_dir, \"final_coexprNets\")), desc=\"Creating/loading network objects\")\n",
    "}"
   ]
  },
  {
   "cell_type": "markdown",
   "metadata": {},
   "source": [
    "##### Load cluster assignments"
   ]
  },
  {
   "cell_type": "code",
   "execution_count": 7,
   "metadata": {},
   "outputs": [],
   "source": [
    "with open(os.path.join(data_dir, \"misc_data\", 'doid_group_clusters_dict.json'), 'r') as f:\n",
    "    doids_per_cluster = json.load(f)\n",
    "\n",
    "doid_cluster_mapping = {doid : cluster for cluster, doid_list in doids_per_cluster.items() if cluster != \"Normal\" for doid in doid_list}"
   ]
  },
  {
   "cell_type": "markdown",
   "metadata": {},
   "source": [
    "##### Load disease name mappings"
   ]
  },
  {
   "cell_type": "code",
   "execution_count": 8,
   "metadata": {},
   "outputs": [],
   "source": [
    "doid_name_mapping = pyobo.get_id_name_mapping('doid')\n",
    "doid_id_mapping = pyobo.get_name_id_mapping('doid')"
   ]
  },
  {
   "cell_type": "markdown",
   "metadata": {},
   "source": [
    "##### Load most common edges.\n",
    "We did this on a separate machine as it is very computationally intensive, and saved the top 100,000 edges.\n",
    "Alternatively, comment out this cell below and un-comment + run the one below it to perform this here"
   ]
  },
  {
   "cell_type": "code",
   "execution_count": 9,
   "metadata": {},
   "outputs": [],
   "source": [
    "with open(os.path.join(data_dir, \"misc_data\", \"100000most_common_edges.json\"), 'r') as f:\n",
    "    most_common_edges = json.load(f)"
   ]
  },
  {
   "cell_type": "code",
   "execution_count": 10,
   "metadata": {},
   "outputs": [],
   "source": [
    "# most_common_edges = most_common(network_dict.values(), comparison=\"edges\")"
   ]
  },
  {
   "cell_type": "markdown",
   "metadata": {},
   "source": [
    "##### Load interactome network"
   ]
  },
  {
   "cell_type": "code",
   "execution_count": 11,
   "metadata": {},
   "outputs": [],
   "source": [
    "interactome = load_interactome(os.path.join(data_dir, \"interactome\", \"interactome_18_01_2021.tsv\"))"
   ]
  },
  {
   "cell_type": "markdown",
   "metadata": {},
   "source": [
    "## Edge stats"
   ]
  },
  {
   "cell_type": "code",
   "execution_count": 12,
   "metadata": {},
   "outputs": [
    {
     "name": "stdout",
     "output_type": "stream",
     "text": [
      "There are 21 edges in at least 44 diseases\n",
      "There are 202 edges in at least 32 diseases\n"
     ]
    }
   ],
   "source": [
    "print(\"There are\", len(above_cutoff(most_common_edges, 44)), \"edges in at least 44 diseases\")\n",
    "print(\"There are\", len(above_cutoff(most_common_edges, 32)), \"edges in at least 32 diseases\")"
   ]
  },
  {
   "cell_type": "markdown",
   "metadata": {},
   "source": [
    "#### Among the most common edges in all diseases (top X)... what proportion can be found in the interactome? "
   ]
  },
  {
   "cell_type": "code",
   "execution_count": 13,
   "metadata": {},
   "outputs": [
    {
     "name": "stderr",
     "output_type": "stream",
     "text": [
      "100%|██████████| 10/10 [00:00<00:00, 124.37it/s]\n"
     ]
    }
   ],
   "source": [
    "overlap_with_interactome = {}\n",
    "percent_top_edges_in_interactome = {}\n",
    "top_10_genes_in_overlap = {}\n",
    "for i in tqdm(range(1000,10001,1000)):\n",
    "    edges = remove_stats(most_common_edges[:i])\n",
    "    overlap = []\n",
    "    for edge in edges:\n",
    "        if interactome.has_edge(*edge) or interactome.has_edge(*edge[::-1]):\n",
    "            overlap.append(edge)\n",
    "    overlap_with_interactome[i] = overlap\n",
    "    percent_top_edges_in_interactome[i] = f\"{len(overlap)/len(edges):.2%}\"\n",
    "    nodes = [node for edge in overlap for node in edge]\n",
    "    counter_obj = Counter(nodes)\n",
    "    top_10_genes_in_overlap[i] = counter_obj.most_common()[:10]"
   ]
  },
  {
   "cell_type": "code",
   "execution_count": 14,
   "metadata": {},
   "outputs": [
    {
     "name": "stdout",
     "output_type": "stream",
     "text": [
      "percent of top 1000 edges that are also in interactome: 4.00%\n",
      "percent of top 2000 edges that are also in interactome: 3.20%\n",
      "percent of top 3000 edges that are also in interactome: 2.90%\n",
      "percent of top 4000 edges that are also in interactome: 2.53%\n",
      "percent of top 5000 edges that are also in interactome: 2.32%\n",
      "percent of top 6000 edges that are also in interactome: 2.08%\n",
      "percent of top 7000 edges that are also in interactome: 1.94%\n",
      "percent of top 8000 edges that are also in interactome: 1.85%\n",
      "percent of top 9000 edges that are also in interactome: 1.70%\n",
      "percent of top 10000 edges that are also in interactome: 1.66%\n"
     ]
    }
   ],
   "source": [
    "for k in percent_top_edges_in_interactome.keys():\n",
    "    print(\"percent of top\", k, \"edges that are also in interactome:\", \n",
    "          percent_top_edges_in_interactome[k])\n",
    "    # print(\"\\ttop 10 genes (gene, #connections):\", top_10_genes_in_overlap[k]) # TODO uncomment if you want to display the top genes from the overlap"
   ]
  },
  {
   "cell_type": "markdown",
   "metadata": {},
   "source": [
    "---\n",
    "#### Among the most common edges in all diseases (top X)... what proportion can be found in the normal network?\n",
    "#### ---> of those, what proportion can be found in the interactome?"
   ]
  },
  {
   "cell_type": "code",
   "execution_count": 15,
   "metadata": {},
   "outputs": [],
   "source": [
    "sorted_normal_edges = sorted(network_dict[\"normal\"].edges(data=True), key=lambda t: t[2].get('weight', 1), reverse = True)"
   ]
  },
  {
   "cell_type": "code",
   "execution_count": 16,
   "metadata": {},
   "outputs": [
    {
     "name": "stderr",
     "output_type": "stream",
     "text": [
      "100%|██████████| 10/10 [3:24:06<00:00, 1224.67s/it]\n"
     ]
    }
   ],
   "source": [
    "overlap_with_normal = {}\n",
    "percent_top_edges_in_normal = {}\n",
    "top_10_genes_in_overlap = {}\n",
    "for i in tqdm(range(1000,10001,1000)):\n",
    "    edges = remove_stats(most_common_edges[:i])\n",
    "    overlap = []\n",
    "    for edge in edges:\n",
    "        if normal_subgraph(i, sorted_normal_edges).has_edge(*edge):\n",
    "            overlap.append(edge)\n",
    "    overlap_with_normal[i] = overlap\n",
    "    percent_top_edges_in_normal[i] = f\"{len(overlap)/len(edges):.2%}\"\n",
    "    nodes = [node for edge in overlap for node in edge]\n",
    "    counter_obj = Counter(nodes)\n",
    "    top_10_genes_in_overlap[i] = counter_obj.most_common()[:10]"
   ]
  },
  {
   "cell_type": "code",
   "execution_count": 17,
   "metadata": {},
   "outputs": [
    {
     "name": "stdout",
     "output_type": "stream",
     "text": [
      "1000 edges: overlap with normal network: 19.20% overlap of those with interactome: 7.81%\n",
      "2000 edges: overlap with normal network: 19.85% overlap of those with interactome: 7.05%\n",
      "3000 edges: overlap with normal network: 19.43% overlap of those with interactome: 5.66%\n",
      "4000 edges: overlap with normal network: 18.93% overlap of those with interactome: 5.02%\n",
      "5000 edges: overlap with normal network: 18.12% overlap of those with interactome: 4.64%\n",
      "6000 edges: overlap with normal network: 17.65% overlap of those with interactome: 4.44%\n",
      "7000 edges: overlap with normal network: 17.70% overlap of those with interactome: 4.28%\n",
      "8000 edges: overlap with normal network: 16.94% overlap of those with interactome: 4.28%\n",
      "9000 edges: overlap with normal network: 16.40% overlap of those with interactome: 4.07%\n",
      "10000 edges: overlap with normal network: 16.48% overlap of those with interactome: 3.88%\n"
     ]
    }
   ],
   "source": [
    "for k in percent_top_edges_in_normal.keys():\n",
    "    print(k,\"edges: overlap with normal network:\", percent_top_edges_in_normal[k], \n",
    "          f\"overlap of those with interactome: {percent_edges_in_other_edges(overlap_with_normal[k],interactome.edges()):.2%}\") \n",
    "    # print(\"\\ttop 10 genes:\", top_10_genes_in_overlap[k]) # TODO uncomment if you want to display the top genes from the overlap"
   ]
  },
  {
   "cell_type": "markdown",
   "metadata": {},
   "source": [
    "---\n",
    "#### Among the most common edges in all diseases that are not in the normal network (top X)... what proportion can be found in the interactome?"
   ]
  },
  {
   "cell_type": "code",
   "execution_count": 18,
   "metadata": {},
   "outputs": [],
   "source": [
    "edges_only_in_diseases = [edge for edge, _ in most_common_edges if edge not in overlap_with_normal[10000]]"
   ]
  },
  {
   "cell_type": "code",
   "execution_count": 19,
   "metadata": {},
   "outputs": [
    {
     "name": "stderr",
     "output_type": "stream",
     "text": [
      "100%|██████████| 10/10 [00:00<00:00, 64.81it/s]\n"
     ]
    }
   ],
   "source": [
    "overlap_with_disease_edges = {}\n",
    "percent_top_edges_in_diseases = {}\n",
    "for i in tqdm(range(1000,10001,1000)):\n",
    "    edges = edges_only_in_diseases[:i]\n",
    "    overlap = []\n",
    "    for edge in edges:\n",
    "        if interactome.has_edge(*edge) or interactome.has_edge(*edge[::-1]):\n",
    "            overlap.append(edge)\n",
    "    overlap_with_disease_edges[i] = overlap\n",
    "    percent_top_edges_in_diseases[i] = f\"{len(overlap)/len(edges):.2%}\""
   ]
  },
  {
   "cell_type": "code",
   "execution_count": 20,
   "metadata": {},
   "outputs": [
    {
     "name": "stdout",
     "output_type": "stream",
     "text": [
      "percent of top 1000 disease-specific edges that are also in interactome: 2.20%\n",
      "percent of top 2000 disease-specific edges that are also in interactome: 2.30%\n",
      "percent of top 3000 disease-specific edges that are also in interactome: 2.03%\n",
      "percent of top 4000 disease-specific edges that are also in interactome: 1.73%\n",
      "percent of top 5000 disease-specific edges that are also in interactome: 1.46%\n",
      "percent of top 6000 disease-specific edges that are also in interactome: 1.45%\n",
      "percent of top 7000 disease-specific edges that are also in interactome: 1.24%\n",
      "percent of top 8000 disease-specific edges that are also in interactome: 1.20%\n",
      "percent of top 9000 disease-specific edges that are also in interactome: 1.17%\n",
      "percent of top 10000 disease-specific edges that are also in interactome: 1.05%\n"
     ]
    }
   ],
   "source": [
    "for k in percent_top_edges_in_diseases.keys():\n",
    "    print(\"percent of top\", k, \"disease-specific edges that are also in interactome:\", percent_top_edges_in_diseases[k])"
   ]
  },
  {
   "cell_type": "markdown",
   "metadata": {},
   "source": [
    "---\n",
    "#### Interactome vs normal network"
   ]
  },
  {
   "cell_type": "code",
   "execution_count": 21,
   "metadata": {},
   "outputs": [
    {
     "name": "stdout",
     "output_type": "stream",
     "text": [
      "Overlap between interactome and equivalent proportion of top edges in normal network:         1.09%\n"
     ]
    }
   ],
   "source": [
    "print(f\"Overlap between interactome and equivalent proportion of top edges in normal network: \\\n",
    "        {percent_edges_in_other_edges(list(normal_subgraph(len(interactome.edges), sorted_normal_edges).edges()), list(interactome.edges())):.2%}\" )"
   ]
  },
  {
   "cell_type": "code",
   "execution_count": null,
   "metadata": {},
   "outputs": [],
   "source": []
  }
 ],
 "metadata": {
  "kernelspec": {
   "display_name": "Python 3",
   "language": "python",
   "name": "python3"
  },
  "language_info": {
   "codemirror_mode": {
    "name": "ipython",
    "version": 3
   },
   "file_extension": ".py",
   "mimetype": "text/x-python",
   "name": "python",
   "nbconvert_exporter": "python",
   "pygments_lexer": "ipython3",
   "version": "3.9.1"
  }
 },
 "nbformat": 4,
 "nbformat_minor": 4
}
